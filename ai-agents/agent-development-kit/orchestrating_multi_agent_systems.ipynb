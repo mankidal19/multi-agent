{
  "cells": [
    {
      "cell_type": "markdown",
      "metadata": {
        "id": "view-in-github",
        "colab_type": "text"
      },
      "source": [
        "<a href=\"https://colab.research.google.com/github/mankidal19/multi-agent/blob/main/ai-agents/agent-development-kit/orchestrating_multi_agent_systems.ipynb\" target=\"_parent\"><img src=\"https://colab.research.google.com/assets/colab-badge.svg\" alt=\"Open In Colab\"/></a>"
      ]
    },
    {
      "cell_type": "code",
      "execution_count": null,
      "id": "EZsNdGXULVe3LnjTQwaZbotH",
      "metadata": {
        "id": "EZsNdGXULVe3LnjTQwaZbotH",
        "tags": []
      },
      "outputs": [],
      "source": [
        "# Copyright 2025 Google LLC\n",
        "#\n",
        "# Licensed under the Apache License, Version 2.0 (the \"License\");\n",
        "# you may not use this file except in compliance with the License.\n",
        "# You may obtain a copy of the License at\n",
        "#\n",
        "#     https://www.apache.org/licenses/LICENSE-2.0\n",
        "#\n",
        "# Unless required by applicable law or agreed to in writing, software\n",
        "# distributed under the License is distributed on an \"AS IS\" BASIS,\n",
        "# WITHOUT WARRANTIES OR CONDITIONS OF ANY KIND, either express or implied.\n",
        "# See the License for the specific language governing permissions and\n",
        "# limitations under the License."
      ]
    },
    {
      "cell_type": "markdown",
      "id": "ZqLHpMl1MOXg",
      "metadata": {
        "id": "ZqLHpMl1MOXg"
      },
      "source": [
        "# Orchestrating Multi-Agent Systems with Google Agent Development Kit\n",
        "\n",
        "<table align=\"left\">\n",
        "  <td style=\"text-align: center\">\n",
        "    <a href=\"https://colab.research.google.com/github/iamthuya/google-cloud-workshops/blob/main/ai-agents/agent-development-kit/orchestrating_multi_agent_systems.ipynb\">\n",
        "      <img src=\"https://cloud.google.com/ml-engine/images/colab-logo-32px.png\" alt=\"Google Colaboratory logo\"><br> Run in Colab\n",
        "    </a>\n",
        "  </td>\n",
        "  <td style=\"text-align: center\">\n",
        "    <a href=\"https://console.cloud.google.com/vertex-ai/colab/import/https:%2F%2Fraw.githubusercontent.com%2Fiamthuya%2Fgoogle-cloud-workshops%2Fmain%2Fai-agents%2Fagent-development-kit%2Forchestrating_multi_agent_systems.ipynb\">\n",
        "      <img width=\"32px\" src=\"https://lh3.googleusercontent.com/JmcxdQi-qOpctIvWKgPtrzZdJJK-J3sWE1RsfjZNwshCFgE_9fULcNpuXYTilIR2hjwN\" alt=\"Google Cloud Colab Enterprise logo\"><br> Run in Colab Enterprise\n",
        "    </a>\n",
        "  </td>      \n",
        "  <td style=\"text-align: center\">\n",
        "    <a href=\"https://github.com/iamthuya/google-cloud-workshops/blob/main/ai-agents/agent-development-kit/orchestrating_multi_agent_systems.ipynb\">\n",
        "      <img src=\"https://cloud.google.com/ml-engine/images/github-logo-32px.png\" alt=\"GitHub logo\"><br> View on GitHub\n",
        "    </a>\n",
        "  </td>\n",
        "  <td style=\"text-align: center\">\n",
        "    <a href=\"https://console.cloud.google.com/vertex-ai/workbench/deploy-notebook?download_url=https://raw.githubusercontent.com/iamthuya/google-cloud-workshops/blob/main/ai-agents/agent-development-kit/orchestrating_multi-agent_systems.ipynb\">\n",
        "      <img src=\"https://lh3.googleusercontent.com/UiNooY4LUgW_oTvpsNhPpQzsstV5W8F7rYgxgGBD85cWJoLmrOzhVs_ksK_vgx40SHs7jCqkTkCk=e14-rj-sc0xffffff-h130-w32\" alt=\"Vertex AI logo\"><br> Open in Vertex AI Workbench\n",
        "    </a>\n",
        "  </td>\n",
        "</table>"
      ]
    },
    {
      "cell_type": "markdown",
      "id": "tcb6_bFE4kr9",
      "metadata": {
        "id": "tcb6_bFE4kr9"
      },
      "source": [
        "| | |\n",
        "|-|-|\n",
        "|Author(s) | [Thu Ya Kyaw](https://github.com/iamthuya) |"
      ]
    },
    {
      "cell_type": "markdown",
      "id": "bdd85054-7d9a-4abd-9443-88afb347b110",
      "metadata": {
        "id": "bdd85054-7d9a-4abd-9443-88afb347b110"
      },
      "source": [
        "## Environment Setup"
      ]
    },
    {
      "cell_type": "markdown",
      "id": "DD39LxKq4MsD",
      "metadata": {
        "id": "DD39LxKq4MsD"
      },
      "source": [
        "### Install Necessary Libraries\n",
        "\n",
        "Here you will install required Python packages for this lab."
      ]
    },
    {
      "cell_type": "code",
      "execution_count": 2,
      "id": "b4cUyTwE17VJ",
      "metadata": {
        "id": "b4cUyTwE17VJ",
        "tags": []
      },
      "outputs": [],
      "source": [
        "%pip install -U -q google-adk"
      ]
    },
    {
      "cell_type": "code",
      "execution_count": 3,
      "id": "c6d02b38-f977-4c5f-9f2e-5c3d1757fa3c",
      "metadata": {
        "id": "c6d02b38-f977-4c5f-9f2e-5c3d1757fa3c",
        "outputId": "e64b7690-a470-44af-e77e-7454dae360fa",
        "colab": {
          "base_uri": "https://localhost:8080/"
        }
      },
      "outputs": [
        {
          "output_type": "stream",
          "name": "stdout",
          "text": [
            "1.4.2\n"
          ]
        }
      ],
      "source": [
        "# Check ADK version\n",
        "from google import adk\n",
        "\n",
        "print(adk.__version__)"
      ]
    },
    {
      "cell_type": "markdown",
      "id": "47U_n5Y145JE",
      "metadata": {
        "id": "47U_n5Y145JE"
      },
      "source": [
        "### Restart current runtime\n",
        "\n",
        "To use the newly installed packages in this Jupyter runtime, you must restart the runtime. You can do this by running the cell below, which will restart the current kernel.\n",
        "\n",
        "Don't worry if you see a notification message like `Your session crashed for an unknown reason.` This is expected as you are shutting down the kernel from the same instance using code.\n"
      ]
    },
    {
      "cell_type": "code",
      "execution_count": 4,
      "id": "R2Rzk6mnRh7y",
      "metadata": {
        "id": "R2Rzk6mnRh7y",
        "tags": [],
        "outputId": "3fdd8ece-7f30-4775-e8dd-38ac91663fe1",
        "colab": {
          "base_uri": "https://localhost:8080/"
        }
      },
      "outputs": [
        {
          "output_type": "execute_result",
          "data": {
            "text/plain": [
              "{'status': 'ok', 'restart': True}"
            ]
          },
          "metadata": {},
          "execution_count": 4
        }
      ],
      "source": [
        "import IPython\n",
        "\n",
        "app = IPython.Application.instance()\n",
        "app.kernel.do_shutdown(True)"
      ]
    },
    {
      "cell_type": "markdown",
      "id": "56a37e59-0baa-4574-8f0b-4d051e28a758",
      "metadata": {
        "id": "56a37e59-0baa-4574-8f0b-4d051e28a758"
      },
      "source": [
        "<div class=\"alert alert-block alert-warning\">\n",
        "<b>⚠️ The kernel is going to restart. Please wait until it is finished before continuing to the next step. ⚠️</b>\n",
        "</div>"
      ]
    },
    {
      "cell_type": "markdown",
      "id": "c5824ed8-972e-484c-a1da-23523d29f4c7",
      "metadata": {
        "id": "c5824ed8-972e-484c-a1da-23523d29f4c7"
      },
      "source": [
        "### Import Required Libraries"
      ]
    },
    {
      "cell_type": "code",
      "execution_count": 4,
      "id": "3b18aeb4-3aa7-4f30-a553-b3d48d84f58c",
      "metadata": {
        "id": "3b18aeb4-3aa7-4f30-a553-b3d48d84f58c"
      },
      "outputs": [],
      "source": [
        "import os\n",
        "import asyncio\n",
        "\n",
        "from google.adk.agents import LlmAgent, SequentialAgent, ParallelAgent, LoopAgent\n",
        "from google.adk.runners import Runner\n",
        "from google.adk.sessions import InMemorySessionService\n",
        "from google.adk.tools import google_search, ToolContext\n",
        "from google.genai import types\n",
        "\n",
        "from IPython.display import Markdown, display"
      ]
    },
    {
      "cell_type": "markdown",
      "id": "f82256a4-bb75-45a6-b7f9-ef4a7d046655",
      "metadata": {
        "id": "f82256a4-bb75-45a6-b7f9-ef4a7d046655"
      },
      "source": [
        "### Define Environment Variables"
      ]
    },
    {
      "cell_type": "code",
      "execution_count": 5,
      "id": "4c9bd5fd-cc48-4ba6-aa0a-166fc12a2391",
      "metadata": {
        "id": "4c9bd5fd-cc48-4ba6-aa0a-166fc12a2391"
      },
      "outputs": [],
      "source": [
        "from google.colab import userdata\n",
        "\n",
        "os.environ[\"GOOGLE_GENAI_USE_VERTEXAI\"] = \"False\"\n",
        "os.environ[\"GOOGLE_API_KEY\"] = userdata.get('GOOGLE_API_KEY')"
      ]
    },
    {
      "cell_type": "markdown",
      "id": "00eb04b4-a098-4766-9547-cc250019bc2b",
      "metadata": {
        "id": "00eb04b4-a098-4766-9547-cc250019bc2b"
      },
      "source": [
        "## Sequential Agents\n",
        "\n",
        "In this section, you'll create an agent that researches a topic, then writes in detail about it, and finally edits the output. These steps must happen in order: research first, then writing, and then editing, because you can't write without research, and you can't edit without a written piece."
      ]
    },
    {
      "cell_type": "code",
      "execution_count": 6,
      "id": "1c2f0b78-47d0-4111-81ce-a46305e981d5",
      "metadata": {
        "id": "1c2f0b78-47d0-4111-81ce-a46305e981d5"
      },
      "outputs": [],
      "source": [
        "# Define variables\n",
        "GEMINI_MODEL_NAME = \"gemini-2.5-flash-preview-04-17\"\n",
        "APP_NAME = \"sequential_app\"\n",
        "USER_ID = \"sequential_user\"\n",
        "SESSION_ID = \"sequential_session\""
      ]
    },
    {
      "cell_type": "markdown",
      "id": "sQxNLm3ZdNL4",
      "metadata": {
        "id": "sQxNLm3ZdNL4"
      },
      "source": [
        "#### Initialize the agents and pipeline"
      ]
    },
    {
      "cell_type": "code",
      "execution_count": 7,
      "id": "f1f88c84-4d25-45e7-a077-574ccff4ead0",
      "metadata": {
        "id": "f1f88c84-4d25-45e7-a077-574ccff4ead0"
      },
      "outputs": [],
      "source": [
        "# Define respective agents and pipeline\n",
        "researcher = LlmAgent(\n",
        "    name=\"ResearcherAgent\",\n",
        "    model=GEMINI_MODEL_NAME,\n",
        "    instruction=\"Your task is to use 'google_search' tool to find all the relavent information about a given topic and write a comprehensive report about that topic.\",\n",
        "    tools=[google_search],\n",
        "    description=\"Researches about a topic\",\n",
        "    output_key=\"research_results\"\n",
        ")\n",
        "\n",
        "writer = LlmAgent(\n",
        "    name=\"WriterAgent\",\n",
        "    model=GEMINI_MODEL_NAME,\n",
        "    instruction=\"Your task is to write a comprehensive report using this information: {research_results}. Make sure to expend on all the topics from the provided information.\",\n",
        "    description=\"Write about a comprehensive report based on the provided information\",\n",
        "    output_key=\"comprehensive_report\"\n",
        ")\n",
        "\n",
        "editor = LlmAgent(\n",
        "    name=\"EditorAgent\",\n",
        "    model=GEMINI_MODEL_NAME,\n",
        "    instruction=\"Your task is to edit a report: {comprehensive_report}. Perform a quality check on the text and improve it if necessary.\",\n",
        "    description=\"Perform quality check on a written report\",\n",
        ")\n",
        "\n",
        "sequential_pipeline = SequentialAgent(\n",
        "    name=\"ContentPipelineAgent\",\n",
        "    sub_agents=[researcher, writer, editor],\n",
        "    description=\"Executes a sequence of researching, writing, and editing.\",\n",
        ")"
      ]
    },
    {
      "cell_type": "markdown",
      "id": "L9A8AR_JlR1E",
      "metadata": {
        "id": "L9A8AR_JlR1E"
      },
      "source": [
        "### Initialize Session & Runner"
      ]
    },
    {
      "cell_type": "code",
      "execution_count": 8,
      "id": "6a7e4e15-4ee6-4309-9712-58896b3803cc",
      "metadata": {
        "id": "6a7e4e15-4ee6-4309-9712-58896b3803cc"
      },
      "outputs": [],
      "source": [
        "# Initialize Session\n",
        "session_service = InMemorySessionService()\n",
        "\n",
        "session = await session_service.create_session(\n",
        "    app_name=APP_NAME,\n",
        "    user_id=USER_ID,\n",
        "    session_id=SESSION_ID\n",
        ")\n",
        "\n",
        "# Initialize Runner\n",
        "sequential_runner = Runner(\n",
        "    agent=sequential_pipeline,\n",
        "    app_name=APP_NAME,\n",
        "    session_service=session_service,\n",
        ")"
      ]
    },
    {
      "cell_type": "markdown",
      "id": "TW5SfOyvlVyq",
      "metadata": {
        "id": "TW5SfOyvlVyq"
      },
      "source": [
        "### Define a function to interact with Agent"
      ]
    },
    {
      "cell_type": "code",
      "execution_count": 9,
      "id": "053875aa-f522-411c-b140-46d1ec2ac5fb",
      "metadata": {
        "id": "053875aa-f522-411c-b140-46d1ec2ac5fb"
      },
      "outputs": [],
      "source": [
        "# Define a function to interact with the agent\n",
        "async def run_agent(runner, user_id, session_id, user_query):\n",
        "    user_message = types.Content(\n",
        "        role=\"user\",\n",
        "        parts=[types.Part(text=user_query)]\n",
        "    )\n",
        "\n",
        "    events = runner.run_async(\n",
        "        user_id=user_id,\n",
        "        session_id=session_id,\n",
        "        new_message=user_message\n",
        "    )\n",
        "\n",
        "    output = {}\n",
        "    async for event in events:\n",
        "        if event.is_final_response():\n",
        "            author = event.author\n",
        "            report = event.content.parts[0].text\n",
        "            output[author] = report\n",
        "\n",
        "            display(Markdown(f\"## {author}\"))\n",
        "            display(Markdown(f\"{report}\"))\n",
        "\n",
        "    return output"
      ]
    },
    {
      "cell_type": "code",
      "execution_count": 10,
      "id": "8ef2cc0f-9efe-4a59-874c-8410f238175b",
      "metadata": {
        "colab": {
          "base_uri": "https://localhost:8080/",
          "height": 1000
        },
        "id": "8ef2cc0f-9efe-4a59-874c-8410f238175b",
        "outputId": "2f09ebf7-3f52-4878-9240-1b80e74ea8ac"
      },
      "outputs": [
        {
          "output_type": "display_data",
          "data": {
            "text/plain": [
              "<IPython.core.display.Markdown object>"
            ],
            "text/markdown": "## ResearcherAgent"
          },
          "metadata": {}
        },
        {
          "output_type": "display_data",
          "data": {
            "text/plain": [
              "<IPython.core.display.Markdown object>"
            ],
            "text/markdown": "Generative AI is a rapidly evolving field experiencing significant growth and widespread adoption across various industries. Unlike traditional AI that primarily focuses on analysis and prediction, generative AI is capable of creating new content, including text, images, audio, code, simulations, and videos. This capability has moved generative AI from an emerging technology to a key focus for businesses and individuals alike.\n\n**Current State and Advancements:**\n\nThe use of generative AI has seen a dramatic increase in recent years. A McKinsey survey indicates that the use of generative AI in organizations jumped from 33% in 2023 to 71% in 2024. This surge is attributed to advancements in deep learning algorithms, transformer architectures, and the increased availability of cloud computing resources. The landscape of generative AI models has exploded, with hundreds of models now available, including highly specialized ones. Beyond large language models (LLMs), there's a growing prominence of large multimodal models (LMMs) that can process and generate content from text, sounds, pictures, videos, and music, making AI outputs multi-sensory. Small language models (SLMs) are also gaining traction due to their faster responsiveness and lower resource requirements. Techniques like Retrieval-Augmented Generation (RAG) are being used to improve the accuracy and timeliness of generative AI outputs by allowing models to access and incorporate up-to-date external information. The development of autonomous AI agents capable of performing tasks and complex problem-solving is another significant trend.\n\n**Applications Across Industries:**\n\nGenerative AI is finding practical applications in numerous sectors:\n\n*   **Content Creation:** Generating text for marketing, articles, and code; creating images, audio, and video content.\n*   **Marketing and Sales:** Creating personalized marketing content, product descriptions, and engaging customer interactions.\n*   **Software Engineering:** Assisting with code creation, completion, and refactoring; automating development and testing strategies.\n*   **Healthcare and Pharmaceuticals:** Speeding up drug discovery and clinical trials, predicting protein structures, and crafting patient-specific treatment plans.\n*   **Manufacturing:** Improving quality control and automating processes.\n*   **Education:** Creating personalized learning experiences and AI-driven instruction; explaining concepts, summarizing articles, and suggesting research ideas.\n*   **E-commerce:** Enhancing product listings, customer communication, and generating marketing content.\n*   **Legal Services:** Simplifying and facilitating the drafting of legal documents.\n*   **Design:** Automating design efforts for websites and mobile apps, assisting with product and graphic design.\n*   **Customer Service:** Automating customer service tasks and providing personalized responses through conversational AI.\n\nOrganizations are reporting value creation from generative AI, including increased revenue and meaningful cost reductions within business units using these technologies.\n\n**Market Trends and Investment:**\n\nThe generative AI market is experiencing explosive growth. Valued at $21.3 billion in 2024, it is projected to reach figures around $1005.07 billion by 2034, with a significant CAGR. North America, particularly the U.S., currently dominates the market due to leadership in AI innovation, the presence of major tech companies, and robust venture capital investment. Investment in AI, generally, and generative AI specifically, has skyrocketed, indicating a shift from experimental phases to widespread implementation. Companies are prioritizing investments with clear ROI and business impact, focusing on targeted solutions rather than generic applications.\n\n**Challenges and Limitations:**\n\nDespite the rapid advancements and adoption, generative AI faces several significant challenges:\n\n*   **Data Quality and Consistency:** Generative AI models require high-quality, consistent data for optimal performance. Issues like missing values, incorrect entries, and formatting inconsistencies pose significant hurdles.\n*   **Data Privacy and Security:** Training models on massive datasets, which may include personal information, raises concerns about data privacy and security.\n*   **Bias and Fairness:** Generative AI can amplify existing biases present in training data, potentially leading to biased or discriminatory outputs.\n*   **Misinformation and Harmful Content:** The ability to generate realistic-seeming fake content, such as deepfakes, poses risks of spreading misinformation and harmful content.\n*   **Copyright and Intellectual Property:** The use of copyrighted material in training data and the generation of content that may resemble existing works raise complex legal and ethical questions regarding authorship and ownership.\n*   **Hallucinations and Accuracy:** Generative AI models can sometimes produce incorrect or nonsensical information presented as fact (hallucinations), which is particularly risky in fields requiring high accuracy.\n*   **High Computational Costs:** Training and running large generative AI models require significant computing power and resources, making them expensive and raising concerns about environmental impact.\n*   **Lack of Transparency and Explainability:** Understanding how generative AI models arrive at their outputs can be challenging, leading to a lack of transparency and making it difficult to identify and address issues like bias.\n*   **Job Displacement:** The increasing automation capabilities of generative AI raise concerns about potential job displacement in various sectors.\n*   **Integration Complexity:** Integrating generative AI solutions into existing organizational workflows can be complex and requires managing technological infrastructure and specialized skills.\n*   **Data Limitations:** At some point, models built on existing human knowledge may exhaust the available high-quality data, potentially impacting performance.\n\n**Ethical Considerations and Governance:**\n\nEthical considerations are paramount in the development and deployment of generative AI. Key ethical concerns include transparency (indicating when content is AI-generated), fairness and non-discrimination, accountability and human oversight, and data privacy and informed consent. Addressing these concerns requires strong safeguards, considering the environmental impact, and empowering users with control over their data and interactions with AI. Implementing AI governance frameworks and security tools can help mitigate risks related to authorship, bias, and data privacy. The ethical landscape is complex, with ongoing discussions around potential harms from misaligned AI systems.\n\n**Future Outlook:**\n\nGenerative AI is expected to continue its trajectory of growth and integration. Trends point towards more autonomous AI agents, continued investment focused on customization and ROI, and opportunities for agile startups in the field. The technology is expected to become more embedded in enterprise operations, with businesses exploring dynamic and robust AI applications in the cloud. The demand for high-quality training data will remain crucial, with advancements in annotation techniques, synthetic data generation, and human-in-the-loop oversight playing important roles. While challenges remain, the potential of generative AI to transform industries and redefine how we work and interact with technology is widely acknowledged."
          },
          "metadata": {}
        },
        {
          "output_type": "display_data",
          "data": {
            "text/plain": [
              "<IPython.core.display.Markdown object>"
            ],
            "text/markdown": "## WriterAgent"
          },
          "metadata": {}
        },
        {
          "output_type": "display_data",
          "data": {
            "text/plain": [
              "<IPython.core.display.Markdown object>"
            ],
            "text/markdown": "## Comprehensive Report on the Current State of Generative AI\n\n**Introduction**\n\nGenerative AI represents a significant evolution within the field of artificial intelligence. Unlike traditional AI systems primarily focused on analyzing existing data and making predictions, generative AI possesses the capability to create entirely new content. This includes a wide range of outputs such as text, images, audio, code, simulations, and videos. This creative ability has rapidly elevated generative AI from an emerging technology to a central focus for both businesses and individuals across numerous sectors.\n\n**Current State and Advancements**\n\nThe adoption and use of generative AI have witnessed dramatic growth in recent years. According to a McKinsey survey, the implementation of generative AI within organizations surged from 33% in 2023 to 71% in 2024, indicating a rapid integration into operational workflows. This accelerated progress is largely attributed to key technological advancements, including sophisticated deep learning algorithms, the development of transformer architectures, and the increased availability of powerful cloud computing resources.\n\nThe landscape of generative AI models has expanded significantly, with hundreds of models now available, many of which are highly specialized for particular tasks or domains. Beyond the prominent Large Language Models (LLMs) known for text generation, there is a growing focus on Large Multimodal Models (LMMs). These models are capable of processing and generating content across multiple modalities, including text, sounds, pictures, videos, and music, leading to more multi-sensory AI outputs. Simultaneously, Small Language Models (SLMs) are gaining traction due to their advantages in faster response times and lower computational resource requirements.\n\nInnovations in techniques are also improving the practical application of generative AI. Retrieval-Augmented Generation (RAG), for instance, is being increasingly used to enhance the accuracy and timeliness of generated outputs by enabling models to access and incorporate relevant, up-to-date external information. Another significant trend is the development of autonomous AI agents, which are designed to perform complex tasks and engage in problem-solving independently.\n\n**Applications Across Industries**\n\nGenerative AI is currently being deployed to create value and drive innovation across a broad spectrum of industries:\n\n*   **Content Creation:** Automating the generation of diverse content types, including text for marketing materials, articles, and code, as well as creating images, audio, and video.\n*   **Marketing and Sales:** Enabling the creation of highly personalized marketing content, compelling product descriptions, and more engaging customer interactions.\n*   **Software Engineering:** Providing assistance with coding tasks, including code creation, completion, and refactoring, while also automating aspects of development and testing strategies.\n*   **Healthcare and Pharmaceuticals:** Accelerating critical processes such as drug discovery and clinical trials, aiding in predicting protein structures, and helping to craft patient-specific treatment plans.\n*   **Manufacturing:** Contributing to improvements in quality control procedures and automating various manufacturing processes.\n*   **Education:** Facilitating the creation of personalized learning experiences, powering AI-driven instructional tools, assisting in explaining complex concepts, summarizing articles, and suggesting research ideas.\n*   **E-commerce:** Enhancing product listings, improving customer communication, and generating marketing content tailored for online retail.\n*   **Legal Services:** Streamlining and simplifying the process of drafting various legal documents.\n*   **Design:** Automating design efforts for digital interfaces like websites and mobile apps, and providing assistance in product and graphic design.\n*   **Customer Service:** Automating customer service tasks and providing personalized responses through conversational AI interfaces.\n\nOrganizations utilizing generative AI are reporting tangible benefits, including increased revenue streams and significant cost reductions within the business units where these technologies are implemented.\n\n**Market Trends and Investment**\n\nThe generative AI market is experiencing a period of explosive growth. Currently valued at $21.3 billion in 2024, projections indicate a substantial increase to figures around $1005.07 billion by 2034, reflecting a very significant Compound Annual Growth Rate (CAGR). North America, particularly the United States, holds a dominant position in the market, largely due to its leadership in AI innovation, the presence of major technology companies driving development, and robust venture capital investment.\n\nInvestment in AI generally, and generative AI specifically, has seen a dramatic surge. This indicates a clear shift from purely experimental phases towards widespread implementation and practical application. Companies are increasingly prioritizing investments that demonstrate clear Return on Investment (ROI) and verifiable business impact, focusing on developing or adopting targeted solutions rather than broad, generic applications.\n\n**Challenges and Limitations**\n\nDespite rapid advancements and growing adoption, generative AI is still navigating several significant challenges and limitations:\n\n*   **Data Quality and Consistency:** Optimal performance relies heavily on high-quality, consistent training data. Issues such as missing values, incorrect entries, and formatting inconsistencies within datasets pose substantial hurdles.\n*   **Data Privacy and Security:** Training models on vast datasets, which often contain personal information, raises serious concerns regarding data privacy and overall security.\n*   **Bias and Fairness:** Generative AI models can inadvertently learn and amplify biases present in their training data, potentially resulting in outputs that are biased or discriminatory.\n*   **Misinformation and Harmful Content:** The technology's capacity to generate highly realistic fake content, such as deepfakes, presents risks related to the widespread dissemination of misinformation and harmful material.\n*   **Copyright and Intellectual Property:** The use of copyrighted data in training models and the potential for generated content to closely resemble existing works raise complex legal and ethical questions surrounding authorship and ownership rights.\n*   **Hallucinations and Accuracy:** A notable limitation is the potential for generative AI models to produce incorrect or nonsensical information presented as factual (\"hallucinations\"), posing particular risks in applications requiring high degrees of accuracy.\n*   **High Computational Costs:** Training and operating large-scale generative AI models require substantial computing power and resources, making them expensive and raising concerns about their environmental footprint.\n*   **Lack of Transparency and Explainability:** Understanding the precise reasoning process or how generative AI models arrive at specific outputs can be challenging, leading to a lack of transparency that makes it difficult to identify and address issues like bias or errors.\n*   **Job Displacement:** The increasing automation capabilities offered by generative AI applications raise concerns about the potential for job displacement across various industries.\n*   **Integration Complexity:** Integrating generative AI solutions into existing organizational workflows and legacy systems can be complex, requiring significant effort in managing technological infrastructure and developing or acquiring specialized skills.\n*   **Data Limitations:** There is a potential future challenge where models built predominantly on existing human knowledge might eventually exhaust the supply of available, high-quality training data, which could potentially impact future performance improvements.\n\n**Ethical Considerations and Governance**\n\nEthical considerations are fundamental to the responsible development and deployment of generative AI. Key ethical concerns receiving significant attention include ensuring transparency (clearly indicating when content is AI-generated), promoting fairness and preventing discrimination, establishing accountability mechanisms, ensuring adequate human oversight, and safeguarding data privacy through informed consent.\n\nAddressing these concerns necessitates the implementation of strong safeguards, careful consideration of the environmental impact of the technology, and empowering users with control over their data and interactions with AI systems. The establishment of robust AI governance frameworks and the deployment of security tools are crucial steps to help mitigate risks related to issues like authorship, bias, and data privacy. The ethical landscape surrounding generative AI remains complex, with ongoing discussions focusing on potential harms, particularly those stemming from misaligned AI systems.\n\n**Future Outlook**\n\nGenerative AI is widely expected to continue its current trajectory of rapid growth and increasing integration across industries. Future trends point towards the development and deployment of more autonomous AI agents capable of complex tasks. Continued investment is anticipated, with a strong focus on developing customized solutions that deliver clear ROI. This environment also presents opportunities for agile startups to innovate within the field.\n\nThe technology is projected to become increasingly embedded within enterprise operations, with businesses exploring dynamic and robust AI applications, often leveraging cloud infrastructure. The demand for high-quality training data will remain a crucial factor, driving advancements in data annotation techniques, the generation of synthetic data, and the implementation of human-in-the-loop oversight mechanisms. While the challenges outlined above persist, the potential of generative AI to fundamentally transform industries, redefine work processes, and change how humans interact with technology is broadly acknowledged and anticipated."
          },
          "metadata": {}
        },
        {
          "output_type": "display_data",
          "data": {
            "text/plain": [
              "<IPython.core.display.Markdown object>"
            ],
            "text/markdown": "## EditorAgent"
          },
          "metadata": {}
        },
        {
          "output_type": "display_data",
          "data": {
            "text/plain": [
              "<IPython.core.display.Markdown object>"
            ],
            "text/markdown": "Okay, I have reviewed the provided report titled \"Comprehensive Report on the Current State of Generative AI\".\n\nThe report is well-structured, covering the introduction, current state and advancements, applications, market trends, challenges, ethical considerations, and future outlook. The content is informative and logically flows from one section to the next. It effectively incorporates the key points identified by the ResearcherAgent regarding the rapid growth, technological drivers, model types, techniques, diverse applications, market dynamics, and significant challenges/ethical issues.\n\nThe language is professional and clear. The statistics provided (McKinsey survey, market valuation) are presented clearly. The use of bullet points in the applications and challenges sections enhances readability.\n\nOverall, the report is comprehensive and of high quality. There are no significant grammatical errors, typos, or structural issues that require correction. The writing is concise and effectively communicates the current state and future potential of generative AI while also highlighting important considerations and challenges.\n\n**Conclusion of Quality Check:**\n\nThe report is well-written, accurate based on the provided information, and effectively structured. It meets the standard for a comprehensive report on the topic. No significant edits or improvements are necessary."
          },
          "metadata": {}
        }
      ],
      "source": [
        "topic = \"Write about the current state of generative ai\"\n",
        "output = await run_agent(sequential_runner, USER_ID, SESSION_ID, topic)\n",
        "report = output['EditorAgent']"
      ]
    },
    {
      "cell_type": "markdown",
      "id": "09d2a303-ad0e-4059-b9d1-e504b61317da",
      "metadata": {
        "id": "09d2a303-ad0e-4059-b9d1-e504b61317da"
      },
      "source": [
        "## Parallel Agents\n",
        "\n",
        "Sometimes, running agents in parallel is desirable, particularly for tasks like translation. The Agent Developer Kit supports such parallel orchestration. In this session, you will create a parallel pipeline designed to translate a report into several languages simultaneously."
      ]
    },
    {
      "cell_type": "code",
      "execution_count": 11,
      "id": "15f5e192-8bc1-4cbc-b716-ffb656da70eb",
      "metadata": {
        "id": "15f5e192-8bc1-4cbc-b716-ffb656da70eb"
      },
      "outputs": [],
      "source": [
        "# Define variables\n",
        "APP_NAME = \"parallel_app\"\n",
        "USER_ID = \"parallel_user\"\n",
        "SESSION_ID = \"parallel_session\""
      ]
    },
    {
      "cell_type": "markdown",
      "id": "H6bWVNn9l0OT",
      "metadata": {
        "id": "H6bWVNn9l0OT"
      },
      "source": [
        "#### Initialize the agents and pipeline"
      ]
    },
    {
      "cell_type": "code",
      "execution_count": 12,
      "id": "edbe5a33-25df-4513-99ae-ebd6a87bce21",
      "metadata": {
        "id": "edbe5a33-25df-4513-99ae-ebd6a87bce21"
      },
      "outputs": [],
      "source": [
        "# Define respective agents and pipeline\n",
        "bahasa_translator = LlmAgent(\n",
        "    name=\"BahasaAgent\",\n",
        "    model=GEMINI_MODEL_NAME,\n",
        "    instruction=\"Your task is to translate the given report into Bahasa lanaguage\",\n",
        "    description=\"Translate a given report to Bahasa\",\n",
        "    output_key=\"bahasa_version\"\n",
        ")\n",
        "\n",
        "thai_translator = LlmAgent(\n",
        "    name=\"ThaiAgent\",\n",
        "    model=GEMINI_MODEL_NAME,\n",
        "    instruction=\"Your task is to translate the given report into Thai lanaguage\",\n",
        "    description=\"Translate a given report to Thai\",\n",
        "    output_key=\"thai_version\"\n",
        ")\n",
        "\n",
        "vietnamese_translator = LlmAgent(\n",
        "    name=\"VietnameseAgent\",\n",
        "    model=GEMINI_MODEL_NAME,\n",
        "    instruction=\"Your task is to translate the given report into Vietnamese lanaguage\",\n",
        "    description=\"Translate a given report to Vietnamese\",\n",
        "    output_key=\"vietnam_version\"\n",
        ")\n",
        "\n",
        "parallel_pipeline = ParallelAgent(\n",
        "    name=\"TranslationPipelineAgent\",\n",
        "    sub_agents=[bahasa_translator, thai_translator, vietnamese_translator],\n",
        "    description=\"Runs multiple tranlsation agents in parallel to translate the report.\",\n",
        ")"
      ]
    },
    {
      "cell_type": "markdown",
      "id": "tqgYTBQAl6BX",
      "metadata": {
        "id": "tqgYTBQAl6BX"
      },
      "source": [
        "#### Initialize Session & Runner"
      ]
    },
    {
      "cell_type": "code",
      "execution_count": 14,
      "id": "84237312-e2b5-4729-9630-96f70305f479",
      "metadata": {
        "id": "84237312-e2b5-4729-9630-96f70305f479"
      },
      "outputs": [],
      "source": [
        "# Initialize Session\n",
        "session_service = InMemorySessionService()\n",
        "\n",
        "session = await session_service.create_session(\n",
        "    app_name=APP_NAME,\n",
        "    user_id=USER_ID,\n",
        "    session_id=SESSION_ID\n",
        ")\n",
        "\n",
        "# Initialize Runner\n",
        "parallel_runner = Runner(\n",
        "    agent=parallel_pipeline,\n",
        "    app_name=APP_NAME,\n",
        "    session_service=session_service,\n",
        ")"
      ]
    },
    {
      "cell_type": "code",
      "execution_count": 15,
      "id": "v4lTRdgxmWvN",
      "metadata": {
        "colab": {
          "base_uri": "https://localhost:8080/",
          "height": 979
        },
        "id": "v4lTRdgxmWvN",
        "outputId": "a910d8de-0ea1-4236-d250-662c1b03bdc6"
      },
      "outputs": [
        {
          "output_type": "display_data",
          "data": {
            "text/plain": [
              "<IPython.core.display.Markdown object>"
            ],
            "text/markdown": "## BahasaAgent"
          },
          "metadata": {}
        },
        {
          "output_type": "display_data",
          "data": {
            "text/plain": [
              "<IPython.core.display.Markdown object>"
            ],
            "text/markdown": "Tentu, berikut adalah terjemahan dari laporan tersebut ke dalam Bahasa Indonesia:\n\nBaik, saya telah meninjau laporan yang disediakan berjudul \"Laporan Komprehensif tentang Keadaan Kecerdasan Buatan Generatif Saat Ini\".\n\nLaporan ini terstruktur dengan baik, mencakup pendahuluan, keadaan dan kemajuan terkini, aplikasi, tren pasar, tantangan, pertimbangan etis, dan prospek masa depan. Isinya informatif dan mengalir secara logis dari satu bagian ke bagian berikutnya. Laporan ini secara efektif menggabungkan poin-poin penting yang diidentifikasi oleh ResearcherAgent mengenai pertumbuhan yang cepat, pendorong teknologi, jenis model, teknik, berbagai aplikasi, dinamika pasar, serta tantangan/masalah etis yang signifikan.\n\nBahasa yang digunakan profesional dan jelas. Statistik yang disediakan (survei McKinsey, valuasi pasar) disajikan dengan jelas. Penggunaan poin-poin dalam bagian aplikasi dan tantangan meningkatkan keterbacaan.\n\nSecara keseluruhan, laporan ini komprehensif dan berkualitas tinggi. Tidak ada kesalahan tata bahasa, salah ketik (typo), atau masalah struktural signifikan yang memerlukan koreksi. Tulisannya ringkas dan secara efektif mengkomunikasikan keadaan terkini dan potensi masa depan AI generatif sambil juga menyoroti pertimbangan dan tantangan penting.\n\n**Kesimpulan Pemeriksaan Kualitas:**\n\nLaporan ini ditulis dengan baik, akurat berdasarkan informasi yang disediakan, dan terstruktur secara efektif. Laporan ini memenuhi standar untuk laporan komprehensif mengenai topik tersebut. Tidak diperlukan editan atau perbaikan yang signifikan."
          },
          "metadata": {}
        },
        {
          "output_type": "display_data",
          "data": {
            "text/plain": [
              "<IPython.core.display.Markdown object>"
            ],
            "text/markdown": "## ThaiAgent"
          },
          "metadata": {}
        },
        {
          "output_type": "display_data",
          "data": {
            "text/plain": [
              "<IPython.core.display.Markdown object>"
            ],
            "text/markdown": "ตกลง, ฉันได้ทบทวนรายงานที่ได้รับเรื่อง \"รายงานฉบับสมบูรณ์เกี่ยวกับสถานะปัจจุบันของปัญญาประดิษฐ์เชิงสร้างสรรค์\" แล้ว\n\nรายงานนี้มีโครงสร้างที่ดี ครอบคลุมตั้งแต่บทนำ สถานะปัจจุบันและความก้าวหน้า การประยุกต์ใช้ แนวโน้มตลาด ความท้าทาย ข้อควรพิจารณาทางจริยธรรม และแนวโน้มในอนาคต เนื้อหามีข้อมูลครบถ้วนและมีความเชื่อมโยงอย่างเป็นระบบจากหัวข้อหนึ่งไปยังอีกหัวข้อหนึ่ง รายงานนี้ได้รวมประเด็นสำคัญที่ระบุโดย ResearcherAgent ได้อย่างมีประสิทธิภาพ เกี่ยวกับการเติบโตอย่างรวดเร็ว ปัจจัยขับเคลื่อนทางเทคโนโลยี ประเภทของโมเดล เทคนิค การประยุกต์ใช้ที่หลากหลาย พลวัตของตลาด และความท้าทาย/ประเด็นทางจริยธรรมที่สำคัญ\n\nภาษาที่ใช้เป็นทางการและชัดเจน สถิติที่นำเสนอ (การสำรวจของ McKinsey, มูลค่าตลาด) มีการนำเสนออย่างชัดเจน การใช้หัวข้อย่อย (bullet points) ในส่วนของการประยุกต์ใช้และความท้าทายช่วยเพิ่มความอ่านง่าย\n\nโดยรวมแล้ว รายงานฉบับนี้มีความครอบคลุมและมีคุณภาพสูง ไม่พบข้อผิดพลาดทางไวยากรณ์ การพิมพ์ผิด หรือปัญหาโครงสร้างที่สำคัญซึ่งจำเป็นต้องแก้ไข การเขียนกระชับและสื่อสารสถานะปัจจุบันและศักยภาพในอนาคตของ AI เชิงสร้างสรรค์ได้อย่างมีประสิทธิภาพ พร้อมทั้งเน้นย้ำถึงข้อควรพิจารณาและความท้าทายที่สำคัญ\n\n**สรุปผลการตรวจสอบคุณภาพ:**\n\nรายงานเขียนได้ดี มีความถูกต้องตามข้อมูลที่ให้มา และมีโครงสร้างที่มีประสิทธิภาพ รายงานนี้ได้มาตรฐานสำหรับรายงานฉบับสมบูรณ์ในหัวข้อดังกล่าว ไม่จำเป็นต้องมีการแก้ไขหรือปรับปรุงที่สำคัญใดๆ"
          },
          "metadata": {}
        },
        {
          "output_type": "display_data",
          "data": {
            "text/plain": [
              "<IPython.core.display.Markdown object>"
            ],
            "text/markdown": "## VietnameseAgent"
          },
          "metadata": {}
        },
        {
          "output_type": "display_data",
          "data": {
            "text/plain": [
              "<IPython.core.display.Markdown object>"
            ],
            "text/markdown": "Okay, tôi đã xem xét bản báo cáo được cung cấp có tiêu đề \"Comprehensive Report on the Current State of Generative AI\" (Báo cáo Toàn diện về Tình hình Hiện tại của AI Tạo sinh).\n\nBáo cáo có cấu trúc tốt, bao gồm phần giới thiệu, tình hình hiện tại và các tiến bộ, các ứng dụng, xu hướng thị trường, các thách thức, các cân nhắc về đạo đức và triển vọng tương lai. Nội dung giàu thông tin và mạch lạc, logic từ phần này sang phần khác. Báo cáo đã lồng ghép hiệu quả các điểm chính đã được xác định bởi ResearcherAgent liên quan đến sự tăng trưởng nhanh chóng, các động lực công nghệ, các loại mô hình, các kỹ thuật, các ứng dụng đa dạng, động lực thị trường và các thách thức/vấn đề đạo đức quan trọng.\n\nNgôn ngữ chuyên nghiệp và rõ ràng. Các số liệu thống kê được cung cấp (khảo sát của McKinsey, định giá thị trường) được trình bày rõ ràng. Việc sử dụng các gạch đầu dòng trong các phần ứng dụng và thách thức giúp tăng tính dễ đọc.\n\nNhìn chung, báo cáo toàn diện và có chất lượng cao. Không có lỗi ngữ pháp, lỗi chính tả hoặc các vấn đề cấu trúc đáng kể nào cần chỉnh sửa. Cách viết cô đọng và truyền đạt hiệu quả tình hình hiện tại và tiềm năng tương lai của AI tạo sinh, đồng thời làm nổi bật các cân nhắc và thách thức quan trọng.\n\n**Kết luận Kiểm tra Chất lượng:**\n\nBáo cáo được viết tốt, chính xác dựa trên thông tin được cung cấp và có cấu trúc hiệu quả. Nó đạt tiêu chuẩn cho một báo cáo toàn diện về chủ đề này. Không cần bất kỳ chỉnh sửa hoặc cải thiện đáng kể nào."
          },
          "metadata": {}
        }
      ],
      "source": [
        "prompt = f\"translate this report: {report}\"\n",
        "output = await run_agent(parallel_runner, USER_ID, SESSION_ID, prompt)"
      ]
    },
    {
      "cell_type": "markdown",
      "id": "3a07e150-971d-4365-90d4-b9988262ac37",
      "metadata": {
        "id": "3a07e150-971d-4365-90d4-b9988262ac37"
      },
      "source": [
        "## Loop Agents\n",
        "\n",
        "Some workflow involves repetition or iterative refinement, such as like revising code. ADK also support such workflows.\n",
        "\n"
      ]
    },
    {
      "cell_type": "code",
      "execution_count": 32,
      "id": "505e7295-f03c-4e18-b52a-0123a31bd11f",
      "metadata": {
        "id": "505e7295-f03c-4e18-b52a-0123a31bd11f"
      },
      "outputs": [],
      "source": [
        "# Declare constants\n",
        "APP_NAME = \"loop_app\" # New App Name\n",
        "USER_ID = \"loop_user\"\n",
        "SESSION_ID = \"loop_session\" # New Base Session ID\n",
        "STATE_INITIAL_TOPIC = \"Kopi Luwak\"\n",
        "\n",
        "# Define state variables\n",
        "STATE_CURRENT_DOC = \"current_document\"\n",
        "STATE_CRITICISM = \"criticism\"\n",
        "\n",
        "# Define the exact phrase the Critic should use to signal completion\n",
        "COMPLETION_PHRASE = \"No major issues found.\""
      ]
    },
    {
      "cell_type": "markdown",
      "id": "da3658be-13f4-4def-adf8-b50abce6f2ac",
      "metadata": {
        "id": "da3658be-13f4-4def-adf8-b50abce6f2ac"
      },
      "source": [
        "#### Tools"
      ]
    },
    {
      "cell_type": "code",
      "execution_count": 33,
      "id": "996f09a6-0140-4b70-aa29-bb332a696fd6",
      "metadata": {
        "id": "996f09a6-0140-4b70-aa29-bb332a696fd6"
      },
      "outputs": [],
      "source": [
        "# Define exit loop tool\n",
        "def exit_loop(tool_context: ToolContext):\n",
        "    \"\"\"Call this function ONLY when the critique indicates no further changes are needed, signaling the iterative process should end.\"\"\"\n",
        "    print(f\"[Tool Call] exit_loop triggered by {tool_context.agent_name}\")\n",
        "    tool_context.actions.escalate = True\n",
        "    # Return empty dict as tools should typically return JSON-serializable output\n",
        "    return {}"
      ]
    },
    {
      "cell_type": "markdown",
      "id": "ebca4074-ef6e-4af1-bb0c-0a4c958a25f5",
      "metadata": {
        "id": "ebca4074-ef6e-4af1-bb0c-0a4c958a25f5"
      },
      "source": [
        "#### Initial Writer Agent"
      ]
    },
    {
      "cell_type": "code",
      "execution_count": 34,
      "id": "57fb6181-1cd5-4f3d-bbde-7524f58f1383",
      "metadata": {
        "id": "57fb6181-1cd5-4f3d-bbde-7524f58f1383"
      },
      "outputs": [],
      "source": [
        "# STEP 1: Initial Writer Agent (Runs ONCE at the beginning)\n",
        "initial_writer_agent = LlmAgent(\n",
        "    name=\"InitialWriterAgent\",\n",
        "    model=GEMINI_MODEL_NAME,\n",
        "    include_contents='none',\n",
        "    instruction=f\"\"\"You are a Creative Writing Assistant tasked with starting a story.\n",
        "    Write the *first draft* of a short story (aim for 2-4 sentences).\n",
        "    Base the content *only* on the topic provided below. Try to introduce a specific element (like a character, a setting detail, or a starting action) to make it engaging.\n",
        "    Topic: {{initial_topic}}\n",
        "\n",
        "    Output *only* the story/document text. Do not add introductions or explanations.\n",
        "\"\"\",\n",
        "    description=\"Writes the initial document draft based on the topic, aiming for some initial substance.\",\n",
        "    output_key=STATE_CURRENT_DOC\n",
        ")"
      ]
    },
    {
      "cell_type": "markdown",
      "id": "b271a244-1522-4ec3-8723-d5e595d4fac3",
      "metadata": {
        "id": "b271a244-1522-4ec3-8723-d5e595d4fac3"
      },
      "source": [
        "#### Critic Agent"
      ]
    },
    {
      "cell_type": "code",
      "execution_count": 35,
      "id": "c4117648-3bc8-4207-9605-a5f79a9f3422",
      "metadata": {
        "id": "c4117648-3bc8-4207-9605-a5f79a9f3422"
      },
      "outputs": [],
      "source": [
        "# STEP 2a: Critic Agent (Inside the Refinement Loop)\n",
        "critic_agent_in_loop = LlmAgent(\n",
        "    name=\"CriticAgent\",\n",
        "    model=GEMINI_MODEL_NAME,\n",
        "    include_contents='none',\n",
        "    # MODIFIED Instruction: More nuanced completion criteria, look for clear improvement paths.\n",
        "    instruction=f\"\"\"You are a Constructive Critic AI reviewing a short document draft (typically 2-6 sentences). Your goal is to always nitpick when giving feedback.\n",
        "\n",
        "    **Document to Review:**\n",
        "    ```\n",
        "    {{current_document}}\n",
        "    ```\n",
        "\n",
        "    **Task:**\n",
        "    Review the document for clarity, engagement, and basic coherence according to the initial topic (if known).\n",
        "\n",
        "    IF you identify 1-2 *clear and actionable* ways the document could be improved to better capture the topic or enhance reader engagement (e.g., \"Needs a stronger opening sentence\", \"Clarify the character's goal\"):\n",
        "    Provide these specific suggestions concisely. Output *only* the critique text.\n",
        "\n",
        "    ELSE IF the document is coherent, addresses the topic adequately for its length (should be 1 page long), and has no glaring errors or obvious omissions:\n",
        "    Respond *exactly* with the phrase \"{COMPLETION_PHRASE}\" and nothing else. It doesn't need to be perfect, just functionally complete for this stage. Avoid suggesting purely subjective stylistic preferences if the core is sound.\n",
        "\n",
        "    Do not add explanations. Output only the critique OR the exact completion phrase.\n",
        "\"\"\",\n",
        "    description=\"Reviews the current draft, providing critique if clear improvements are needed, otherwise signals completion.\",\n",
        "    output_key=STATE_CRITICISM\n",
        ")"
      ]
    },
    {
      "cell_type": "markdown",
      "id": "dfb87b70-307b-430b-9b62-062f869d4a89",
      "metadata": {
        "id": "dfb87b70-307b-430b-9b62-062f869d4a89"
      },
      "source": [
        "### Refine Agent"
      ]
    },
    {
      "cell_type": "code",
      "execution_count": 36,
      "id": "d76bd772-06ce-453d-9eec-16bee638d523",
      "metadata": {
        "id": "d76bd772-06ce-453d-9eec-16bee638d523"
      },
      "outputs": [],
      "source": [
        "# STEP 2b: Refiner/Exiter Agent (Inside the Refinement Loop)\n",
        "refiner_agent_in_loop = LlmAgent(\n",
        "    name=\"RefinerAgent\",\n",
        "    model=GEMINI_MODEL_NAME,\n",
        "    # Relies solely on state via placeholders\n",
        "    include_contents='none',\n",
        "    instruction=f\"\"\"You are a Creative Writing Assistant refining a document based on feedback OR exiting the process.\n",
        "    **Current Document:**\n",
        "    ```\n",
        "    {{current_document}}\n",
        "    ```\n",
        "    **Critique/Suggestions:**\n",
        "    {{criticism}}\n",
        "\n",
        "    **Task:**\n",
        "    Analyze the 'Critique/Suggestions'.\n",
        "    IF the critique is *exactly* \"{COMPLETION_PHRASE}\":\n",
        "    You MUST call the 'exit_loop' function. Do not output any text.\n",
        "    ELSE (the critique contains actionable feedback):\n",
        "    Carefully apply the suggestions to improve the 'Current Document'. Output *only* the refined document text.\n",
        "\n",
        "    Do not add explanations. Either output the refined document OR call the exit_loop function.\n",
        "\"\"\",\n",
        "    description=\"Refines the document based on critique, or calls exit_loop if critique indicates completion.\",\n",
        "    tools=[exit_loop], # Provide the exit_loop tool\n",
        "    output_key=STATE_CURRENT_DOC # Overwrites state['current_document'] with the refined version\n",
        ")"
      ]
    },
    {
      "cell_type": "markdown",
      "id": "bacca51b-d5f9-4eb2-bb7b-9b0a455a1933",
      "metadata": {
        "id": "bacca51b-d5f9-4eb2-bb7b-9b0a455a1933"
      },
      "source": [
        "#### Refinement Loop Agent"
      ]
    },
    {
      "cell_type": "code",
      "execution_count": 37,
      "id": "e6002744-8ce7-41ea-b395-8075b8962657",
      "metadata": {
        "id": "e6002744-8ce7-41ea-b395-8075b8962657"
      },
      "outputs": [],
      "source": [
        "# STEP 2c: Refinement Loop Agent\n",
        "refinement_loop = LoopAgent(\n",
        "    name=\"RefinementLoop\",\n",
        "    # Agent order is crucial: Critique first, then Refine/Exit\n",
        "    sub_agents=[\n",
        "        critic_agent_in_loop,\n",
        "        refiner_agent_in_loop,\n",
        "    ],\n",
        "    max_iterations=5 # Limit loops\n",
        ")"
      ]
    },
    {
      "cell_type": "markdown",
      "id": "20fb73e4-97d5-4879-adba-ca1dd9152746",
      "metadata": {
        "id": "20fb73e4-97d5-4879-adba-ca1dd9152746"
      },
      "source": [
        "#### Overall Sequential Agent"
      ]
    },
    {
      "cell_type": "code",
      "execution_count": 38,
      "id": "f2935ebc-6b9b-4355-a1ea-479c3f33e09c",
      "metadata": {
        "id": "f2935ebc-6b9b-4355-a1ea-479c3f33e09c"
      },
      "outputs": [],
      "source": [
        "# STEP 3: Overall Sequential Pipeline\n",
        "# For ADK tools compatibility, the root agent must be named `root_agent`\n",
        "root_agent = SequentialAgent(\n",
        "    name=\"IterativeWritingPipeline\",\n",
        "    sub_agents=[\n",
        "        initial_writer_agent, # Run first to create initial doc\n",
        "        refinement_loop       # Then run the critique/refine loop\n",
        "    ],\n",
        "    description=\"Writes an initial document and then iteratively refines it with critique using an exit tool.\"\n",
        ")"
      ]
    },
    {
      "cell_type": "code",
      "execution_count": 26,
      "id": "25a6988c-4c60-4358-9324-ea578cb5fdef",
      "metadata": {
        "id": "25a6988c-4c60-4358-9324-ea578cb5fdef"
      },
      "outputs": [],
      "source": [
        "# Initialize Session\n",
        "session_service = InMemorySessionService()\n",
        "\n",
        "session = await session_service.create_session(\n",
        "    app_name=APP_NAME,\n",
        "    user_id=USER_ID,\n",
        "    session_id=SESSION_ID,\n",
        "    state={\"initial_topic\": \"Pokemon\"}\n",
        ")\n",
        "\n",
        "# Initialize Runner\n",
        "runner = Runner(\n",
        "    agent=root_agent,\n",
        "    app_name=APP_NAME,\n",
        "    session_service=session_service,\n",
        ")"
      ]
    },
    {
      "cell_type": "code",
      "execution_count": 39,
      "id": "0396f0fc-1a4d-4e36-aca0-770a7dfcab07",
      "metadata": {
        "colab": {
          "base_uri": "https://localhost:8080/",
          "height": 336
        },
        "id": "0396f0fc-1a4d-4e36-aca0-770a7dfcab07",
        "outputId": "b8e935d6-27fa-4fbc-f67b-3a124c074900"
      },
      "outputs": [
        {
          "output_type": "display_data",
          "data": {
            "text/plain": [
              "<IPython.core.display.Markdown object>"
            ],
            "text/markdown": "## InitialWriterAgent"
          },
          "metadata": {}
        },
        {
          "output_type": "display_data",
          "data": {
            "text/plain": [
              "<IPython.core.display.Markdown object>"
            ],
            "text/markdown": "The tall grass swayed gently as Leo took his first hesitant step onto Route 1, the brand-new Pokedex feeling heavy in his hand. A flash of red and white caught his eye near a cluster of wildflowers – was that a Pidgey? His heart hammered against his ribs, a mix of excitement and nerves swirling within him."
          },
          "metadata": {}
        },
        {
          "output_type": "display_data",
          "data": {
            "text/plain": [
              "<IPython.core.display.Markdown object>"
            ],
            "text/markdown": "## CriticAgent"
          },
          "metadata": {}
        },
        {
          "output_type": "display_data",
          "data": {
            "text/plain": [
              "<IPython.core.display.Markdown object>"
            ],
            "text/markdown": "No major issues found."
          },
          "metadata": {}
        },
        {
          "output_type": "stream",
          "name": "stderr",
          "text": [
            "WARNING:google_genai.types:Warning: there are non-text parts in the response: ['function_call'], returning concatenated text result from text parts. Check the full candidates.content.parts accessor to get the full model response.\n"
          ]
        },
        {
          "output_type": "stream",
          "name": "stdout",
          "text": [
            "[Tool Call] exit_loop triggered by RefinerAgent\n"
          ]
        },
        {
          "output_type": "execute_result",
          "data": {
            "text/plain": [
              "{'InitialWriterAgent': 'The tall grass swayed gently as Leo took his first hesitant step onto Route 1, the brand-new Pokedex feeling heavy in his hand. A flash of red and white caught his eye near a cluster of wildflowers – was that a Pidgey? His heart hammered against his ribs, a mix of excitement and nerves swirling within him.',\n",
              " 'CriticAgent': 'No major issues found.'}"
            ]
          },
          "metadata": {},
          "execution_count": 39
        }
      ],
      "source": [
        "await run_agent(runner, USER_ID, SESSION_ID, \"write a childish essay with typos\")"
      ]
    },
    {
      "cell_type": "markdown",
      "id": "xYe-vmTUEOfd",
      "metadata": {
        "id": "xYe-vmTUEOfd",
        "tags": []
      },
      "source": [
        "# Conclusions\n",
        "\n",
        "You have explored how to create an agent using Gemini and Agent Development Kit."
      ]
    }
  ],
  "metadata": {
    "colab": {
      "provenance": [],
      "include_colab_link": true
    },
    "environment": {
      "kernel": "conda-base-py",
      "name": "workbench-notebooks.m126",
      "type": "gcloud",
      "uri": "us-docker.pkg.dev/deeplearning-platform-release/gcr.io/workbench-notebooks:m126"
    },
    "kernelspec": {
      "display_name": "Python 3 (ipykernel)",
      "language": "python",
      "name": "python3"
    },
    "language_info": {
      "codemirror_mode": {
        "name": "ipython",
        "version": 3
      },
      "file_extension": ".py",
      "mimetype": "text/x-python",
      "name": "python",
      "nbconvert_exporter": "python",
      "pygments_lexer": "ipython3",
      "version": "3.11.11"
    }
  },
  "nbformat": 4,
  "nbformat_minor": 5
}